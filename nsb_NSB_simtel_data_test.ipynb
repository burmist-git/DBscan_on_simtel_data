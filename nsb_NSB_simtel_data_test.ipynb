{
 "cells": [
  {
   "cell_type": "code",
   "execution_count": 1,
   "id": "933522e5-c203-4cf0-b5ef-458ddb27cdf8",
   "metadata": {},
   "outputs": [
    {
     "name": "stderr",
     "output_type": "stream",
     "text": [
      "/usr/lib/python3/dist-packages/scipy/__init__.py:146: UserWarning: A NumPy version >=1.17.3 and <1.25.0 is required for this version of SciPy (detected version 1.26.4\n",
      "  warnings.warn(f\"A NumPy version >={np_minversion} and <{np_maxversion}\"\n"
     ]
    }
   ],
   "source": [
    "from eventio import SimTelFile\n",
    "import numpy as np\n",
    "import pandas as pd\n",
    "import datetime\n",
    "from datetime import timedelta\n",
    "from matplotlib import dates\n",
    "import matplotlib.pyplot as plt\n",
    "import time\n",
    "from pathlib import Path\n",
    "from scipy.optimize import curve_fit\n",
    "import pickle as pkl\n",
    "import sys\n",
    "from sklearn.cluster import DBSCAN\n",
    "import matplotlib.pyplot as plt\n",
    "\n",
    "import DBscan_on_simtel_data as dbs "
   ]
  },
  {
   "cell_type": "code",
   "execution_count": 2,
   "id": "6b67d62d-45a6-4872-8fe5-28c725857bf4",
   "metadata": {},
   "outputs": [],
   "source": [
    "def save_hist( hist, fileName):\n",
    "    binl=np.pad(hist[1].copy(), pad_width=1)\n",
    "    binr=np.pad(hist[1].copy(), pad_width=1)\n",
    "    binr=np.roll(binr, shift=1,axis=0)\n",
    "    #print(binr)\n",
    "    binc=binl+(binr-binl)/2.0\n",
    "    binc=binc[2:-1]\n",
    "    print(hist)\n",
    "    print(binc[2:-1])\n",
    "    print(len(binc))\n",
    "    print(len(hist[0]))\n",
    "    df = pd.DataFrame({'binc': binc, \n",
    "                       'energy': hist[0]})\n",
    "    df.to_csv(fileName,sep=' ',index=False)"
   ]
  },
  {
   "cell_type": "code",
   "execution_count": 3,
   "id": "02f0275a-554b-4d7f-a8d2-c46db19091ec",
   "metadata": {},
   "outputs": [],
   "source": [
    "datafilein='../scratch/simtel_data/NSB268MHz/data/corsika_run1.simtel.gz'\n",
    "outHistFileName='hist_wf_val_NSB268MHz.csv'\n",
    "#datafilein='../scratch/simtel_data/NSB386MHz/corsika_run1.simtel.gz'\n",
    "#outHistFileName='hist_wf_val_NSB386MHz.csv'\n",
    "#\n",
    "nevmax = 1000"
   ]
  },
  {
   "cell_type": "code",
   "execution_count": 4,
   "id": "70f5237b-6695-463c-915e-1163d9128cf6",
   "metadata": {},
   "outputs": [
    {
     "name": "stdout",
     "output_type": "stream",
     "text": [
      "event_id          100\n"
     ]
    }
   ],
   "source": [
    "dbs.print_ev_first_ID(datafilein,1)"
   ]
  },
  {
   "cell_type": "code",
   "execution_count": 5,
   "id": "ee23b532-ecec-4d5b-9bc9-40bf3caba1a6",
   "metadata": {},
   "outputs": [
    {
     "name": "stdout",
     "output_type": "stream",
     "text": [
      "----------------------------------\n",
      "event_id          108\n",
      "energy            0.01571020483970642\n",
      "xcore             793.7481079101562\n",
      "ycore             1220.1619873046875\n",
      "ev_time           14.6484375\n",
      "nphotons          0\n",
      "n_pe              0\n",
      "n_pixels          0\n",
      "wfshape           (7987, 75)\n",
      "type              <class 'numpy.ndarray'>\n",
      "typeadc           <class 'numpy.uint16'>\n",
      "----------------------------------\n"
     ]
    }
   ],
   "source": [
    "dbs.print_ev_info(datafilein,108)"
   ]
  },
  {
   "cell_type": "code",
   "execution_count": 6,
   "id": "0a6c0b68-88d6-4915-8665-f42925edf2e7",
   "metadata": {},
   "outputs": [
    {
     "name": "stdout",
     "output_type": "stream",
     "text": [
      "         0       0.01 s\n",
      "       100       0.74 s\n",
      "       200       0.73 s\n",
      "       300       0.72 s\n",
      "       400       0.72 s\n",
      "       500       0.71 s\n",
      "       600       0.78 s\n",
      "       700       0.75 s\n",
      "       800       0.76 s\n",
      "       900       0.72 s\n",
      "<class 'numpy.ndarray'>\n",
      "(7987, 75, 1000)\n"
     ]
    }
   ],
   "source": [
    "sf = SimTelFile(datafilein)\n",
    "wf = np.array([], dtype=np.uint16)\n",
    "it_cout = 0\n",
    "#\n",
    "tic = time.time()\n",
    "toc = time.time()\n",
    "#\n",
    "it_cout=0\n",
    "#\n",
    "wf_l=[]\n",
    "#\n",
    "for ev in sf:\n",
    "    #\n",
    "    if int(ev['photoelectrons'][0]['n_pe']) == 0 :\n",
    "        wf=ev['telescope_events'][1]['adc_samples'][0]\n",
    "        wfp=wf.copy()\n",
    "        #\n",
    "        wf_l.append(wfp)\n",
    "        #\n",
    "        if (it_cout%100==0) :            \n",
    "            toc = time.time()\n",
    "            print('{:10d} {:10.2f} s'.format(it_cout, toc - tic))\n",
    "            tic = time.time()\n",
    "        it_cout = it_cout + 1\n",
    "        if (it_cout >= nevmax and nevmax > 0):\n",
    "            break\n",
    "#\n",
    "#\n",
    "wf_tot=np.concatenate(([wfs.reshape((wfs.shape[0],wfs.shape[1],1)) for wfs in wf_l]), axis=2)\n",
    "print(type(wf_tot))\n",
    "print(wf_tot.shape)"
   ]
  },
  {
   "cell_type": "code",
   "execution_count": 7,
   "id": "f6384c76-95b0-4846-a9bb-310aa4cc96e5",
   "metadata": {},
   "outputs": [],
   "source": [
    "wf_tot=wf_tot.flatten()"
   ]
  },
  {
   "cell_type": "code",
   "execution_count": 8,
   "id": "79f66614-7de6-4e7a-ab40-f100d3f5cb55",
   "metadata": {},
   "outputs": [
    {
     "name": "stdout",
     "output_type": "stream",
     "text": [
      "mean  299.9957135895831\n",
      "std   7.835065408643602\n"
     ]
    }
   ],
   "source": [
    "print('mean ',np.mean(wf_tot))\n",
    "print('std  ',np.std(wf_tot))"
   ]
  },
  {
   "cell_type": "code",
   "execution_count": 12,
   "id": "f1bdbb62-d870-492f-a799-d4722b3844a4",
   "metadata": {},
   "outputs": [
    {
     "data": {
      "image/png": "[encoded data removed]",
      "text/plain": [
       "<Figure size 700x700 with 1 Axes>"
      ]
     },
     "metadata": {},
     "output_type": "display_data"
    }
   ],
   "source": [
    "fig, ax01 = plt.subplots(figsize=(7,7))\n",
    "\n",
    "hist_wf_val=ax01.hist( wf_tot.flatten(), bins=np.linspace(249.5,400.5,int(400.5-249.5+1)), alpha=0.7, color='b', edgecolor='black', density=False)\n",
    "\n",
    "ax01.set(xlabel='ADC values', ylabel='');\n",
    "#\n",
    "ax01.yaxis.grid(True)\n",
    "ax01.xaxis.grid(True)\n",
    "#ax01.set_yscale('log')\n",
    "\n",
    "#ax01.set_xlim(2,16)\n",
    "#ax01.set_ylim(1,2*1e+5)\n",
    "\n",
    "\n",
    "# Add mean and std annotations\n",
    "#plt.axvline(np.mean(df_nsb_['digitalsum_points_rate']), color='r', linestyle='dashed', linewidth=2)\n",
    "#plt.text(12.0, 2.2e+4, f'Mean: {np.mean(df_nsb_['digitalsum_points_rate']):.2f} GHz', color='k')\n",
    "\n",
    "# Add mean and std annotations\n",
    "#plt.axvline(np.mean(df_nsb_['digitalsum_points_rate']) + 2*np.std(df_nsb_['digitalsum_points_rate']), \n",
    "#            color='k', linestyle='dashed', linewidth=2)\n",
    "#plt.axvline(np.mean(df_nsb_['digitalsum_points_rate']) - 2*np.std(df_nsb_['digitalsum_points_rate']), \n",
    "#            color='k', linestyle='dashed', linewidth=2)\n",
    "#plt.text(12.0, 1.2e+4, f'Std: {np.std(df_nsb_['digitalsum_points_rate']):.2f} GHz', color='k')\n",
    "\n",
    "plt.show()"
   ]
  },
  {
   "cell_type": "code",
   "execution_count": 10,
   "id": "78d007ed-81b7-427d-bffe-0fa56ec8441b",
   "metadata": {},
   "outputs": [
    {
     "name": "stdout",
     "output_type": "stream",
     "text": [
      "(array([0.0000000e+00, 0.0000000e+00, 0.0000000e+00, 0.0000000e+00,\n",
      "       0.0000000e+00, 0.0000000e+00, 0.0000000e+00, 0.0000000e+00,\n",
      "       0.0000000e+00, 0.0000000e+00, 0.0000000e+00, 0.0000000e+00,\n",
      "       0.0000000e+00, 0.0000000e+00, 0.0000000e+00, 0.0000000e+00,\n",
      "       0.0000000e+00, 0.0000000e+00, 0.0000000e+00, 0.0000000e+00,\n",
      "       1.0000000e+00, 5.0000000e+00, 8.0000000e+00, 6.1000000e+01,\n",
      "       1.9500000e+02, 6.2100000e+02, 1.7650000e+03, 4.7710000e+03,\n",
      "       1.2900000e+04, 3.1901000e+04, 7.5592000e+04, 1.6593900e+05,\n",
      "       3.4597700e+05, 6.8147500e+05, 1.2597630e+06, 2.2034690e+06,\n",
      "       3.6414360e+06, 5.6900900e+06, 8.4168000e+06, 1.1778654e+07,\n",
      "       1.5660564e+07, 1.9790046e+07, 2.3839223e+07, 2.7492528e+07,\n",
      "       3.0436161e+07, 3.2493833e+07, 3.3621657e+07, 3.3873111e+07,\n",
      "       3.3365950e+07, 3.2260446e+07, 3.0725728e+07, 2.8849410e+07,\n",
      "       2.6763884e+07, 2.4553853e+07, 2.2289741e+07, 2.0033863e+07,\n",
      "       1.7862977e+07, 1.5800754e+07, 1.3874277e+07, 1.2116983e+07,\n",
      "       1.0513234e+07, 9.0821400e+06, 7.7998150e+06, 6.6748260e+06,\n",
      "       5.6833360e+06, 4.8207000e+06, 4.0742310e+06, 3.4339470e+06,\n",
      "       2.8858270e+06, 2.4145280e+06, 2.0192920e+06, 1.6791050e+06,\n",
      "       1.3971570e+06, 1.1610260e+06, 9.5951100e+05, 7.9387700e+05,\n",
      "       6.5448100e+05, 5.3934900e+05, 4.4263200e+05, 3.6376200e+05,\n",
      "       2.9913700e+05, 2.4502300e+05, 1.9925800e+05, 1.6267000e+05,\n",
      "       1.3380000e+05, 1.0819200e+05, 8.7798000e+04, 7.1843000e+04,\n",
      "       5.8386000e+04, 4.7604000e+04, 3.8648000e+04, 3.1486000e+04,\n",
      "       2.5182000e+04, 2.0496000e+04, 1.6819000e+04, 1.3218000e+04,\n",
      "       1.0920000e+04, 8.7970000e+03, 7.0730000e+03, 5.7960000e+03,\n",
      "       4.5130000e+03, 3.8110000e+03, 3.0870000e+03, 2.3270000e+03,\n",
      "       1.9720000e+03, 1.5080000e+03, 1.2340000e+03, 1.0270000e+03,\n",
      "       8.2700000e+02, 6.5300000e+02, 5.7300000e+02, 4.4200000e+02,\n",
      "       3.2200000e+02, 2.6500000e+02, 2.1800000e+02, 1.5300000e+02,\n",
      "       1.2800000e+02, 1.0900000e+02, 1.1600000e+02, 7.0000000e+01,\n",
      "       8.0000000e+01, 5.5000000e+01, 3.1000000e+01, 3.0000000e+01,\n",
      "       2.4000000e+01, 1.8000000e+01, 1.2000000e+01, 9.0000000e+00,\n",
      "       9.0000000e+00, 9.0000000e+00, 1.1000000e+01, 8.0000000e+00,\n",
      "       4.0000000e+00, 2.0000000e+00, 3.0000000e+00, 0.0000000e+00,\n",
      "       3.0000000e+00, 2.0000000e+00, 0.0000000e+00, 0.0000000e+00,\n",
      "       0.0000000e+00, 0.0000000e+00, 0.0000000e+00, 1.0000000e+00,\n",
      "       0.0000000e+00, 0.0000000e+00, 0.0000000e+00, 0.0000000e+00,\n",
      "       0.0000000e+00, 0.0000000e+00, 0.0000000e+00]), array([249.5, 250.5, 251.5, 252.5, 253.5, 254.5, 255.5, 256.5, 257.5,\n",
      "       258.5, 259.5, 260.5, 261.5, 262.5, 263.5, 264.5, 265.5, 266.5,\n",
      "       267.5, 268.5, 269.5, 270.5, 271.5, 272.5, 273.5, 274.5, 275.5,\n",
      "       276.5, 277.5, 278.5, 279.5, 280.5, 281.5, 282.5, 283.5, 284.5,\n",
      "       285.5, 286.5, 287.5, 288.5, 289.5, 290.5, 291.5, 292.5, 293.5,\n",
      "       294.5, 295.5, 296.5, 297.5, 298.5, 299.5, 300.5, 301.5, 302.5,\n",
      "       303.5, 304.5, 305.5, 306.5, 307.5, 308.5, 309.5, 310.5, 311.5,\n",
      "       312.5, 313.5, 314.5, 315.5, 316.5, 317.5, 318.5, 319.5, 320.5,\n",
      "       321.5, 322.5, 323.5, 324.5, 325.5, 326.5, 327.5, 328.5, 329.5,\n",
      "       330.5, 331.5, 332.5, 333.5, 334.5, 335.5, 336.5, 337.5, 338.5,\n",
      "       339.5, 340.5, 341.5, 342.5, 343.5, 344.5, 345.5, 346.5, 347.5,\n",
      "       348.5, 349.5, 350.5, 351.5, 352.5, 353.5, 354.5, 355.5, 356.5,\n",
      "       357.5, 358.5, 359.5, 360.5, 361.5, 362.5, 363.5, 364.5, 365.5,\n",
      "       366.5, 367.5, 368.5, 369.5, 370.5, 371.5, 372.5, 373.5, 374.5,\n",
      "       375.5, 376.5, 377.5, 378.5, 379.5, 380.5, 381.5, 382.5, 383.5,\n",
      "       384.5, 385.5, 386.5, 387.5, 388.5, 389.5, 390.5, 391.5, 392.5,\n",
      "       393.5, 394.5, 395.5, 396.5, 397.5, 398.5, 399.5, 400.5]), <BarContainer object of 151 artists>)\n",
      "[252. 253. 254. 255. 256. 257. 258. 259. 260. 261. 262. 263. 264. 265.\n",
      " 266. 267. 268. 269. 270. 271. 272. 273. 274. 275. 276. 277. 278. 279.\n",
      " 280. 281. 282. 283. 284. 285. 286. 287. 288. 289. 290. 291. 292. 293.\n",
      " 294. 295. 296. 297. 298. 299. 300. 301. 302. 303. 304. 305. 306. 307.\n",
      " 308. 309. 310. 311. 312. 313. 314. 315. 316. 317. 318. 319. 320. 321.\n",
      " 322. 323. 324. 325. 326. 327. 328. 329. 330. 331. 332. 333. 334. 335.\n",
      " 336. 337. 338. 339. 340. 341. 342. 343. 344. 345. 346. 347. 348. 349.\n",
      " 350. 351. 352. 353. 354. 355. 356. 357. 358. 359. 360. 361. 362. 363.\n",
      " 364. 365. 366. 367. 368. 369. 370. 371. 372. 373. 374. 375. 376. 377.\n",
      " 378. 379. 380. 381. 382. 383. 384. 385. 386. 387. 388. 389. 390. 391.\n",
      " 392. 393. 394. 395. 396. 397. 398. 399.]\n",
      "151\n",
      "151\n"
     ]
    }
   ],
   "source": [
    "save_hist( hist=hist_wf_val, fileName=outHistFileName)"
   ]
  }
 ],
 "metadata": {
  "kernelspec": {
   "display_name": "Python 3 (ipykernel)",
   "language": "python",
   "name": "python3"
  },
  "language_info": {
   "codemirror_mode": {
    "name": "ipython",
    "version": 3
   },
   "file_extension": ".py",
   "mimetype": "text/x-python",
   "name": "python",
   "nbconvert_exporter": "python",
   "pygments_lexer": "ipython3",
   "version": "3.10.12"
  }
 },
 "nbformat": 4,
 "nbformat_minor": 5
}
